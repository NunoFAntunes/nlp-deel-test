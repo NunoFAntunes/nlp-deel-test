{
 "cells": [
  {
   "cell_type": "code",
   "execution_count": 11,
   "metadata": {},
   "outputs": [],
   "source": [
    "from sentence_transformers import SentenceTransformer\n",
    "from sentence_transformers.util import cos_sim\n",
    "import pandas as pd\n",
    "from unidecode import unidecode\n",
    "import re\n",
    "import numpy as np"
   ]
  },
  {
   "cell_type": "code",
   "execution_count": 12,
   "metadata": {},
   "outputs": [
    {
     "data": {
      "text/plain": [
       "SentenceTransformer(\n",
       "  (0): Transformer({'max_seq_length': 256, 'do_lower_case': False}) with Transformer model: BertModel \n",
       "  (1): Pooling({'word_embedding_dimension': 384, 'pooling_mode_cls_token': False, 'pooling_mode_mean_tokens': True, 'pooling_mode_max_tokens': False, 'pooling_mode_mean_sqrt_len_tokens': False})\n",
       "  (2): Normalize()\n",
       ")"
      ]
     },
     "execution_count": 12,
     "metadata": {},
     "output_type": "execute_result"
    }
   ],
   "source": [
    "# Loading the model\n",
    "model = SentenceTransformer('all-MiniLM-L6-v2')\n",
    "model"
   ]
  },
  {
   "cell_type": "code",
   "execution_count": 13,
   "metadata": {},
   "outputs": [],
   "source": [
    "# Loading the data\n",
    "TRANSACTIONS_DATA_PATH = '../../data/transactions.csv'\n",
    "df_transactions = pd.read_csv(TRANSACTIONS_DATA_PATH)"
   ]
  },
  {
   "cell_type": "code",
   "execution_count": 14,
   "metadata": {},
   "outputs": [
    {
     "data": {
      "text/plain": [
       "0     From Liam J. Johnson for Deel, ref 4oJnVOMRLZf...\n",
       "1     From Olivia Roland Smith for Deel, ref mhH2aFL...\n",
       "2     From 杨陈 for Deel, ref 0Ckil9BX0zXMACC//1474884...\n",
       "3     Transfer from Emma Brown for Deel, ref kKx5IWy...\n",
       "4     From Oliver Talor for Deel, ref zMpiWFssuC1sAC...\n",
       "                            ...                        \n",
       "95    From Audrey Peterson for Deel, ref UWSpnVhFXGH...\n",
       "96    Transfer from  奕辰 for Deel, ref 7bQYUZ1Bble5AC...\n",
       "97    From Elena## BUTLET for Deel, ref oheOEVx,wfB1...\n",
       "98    From Christian Griffin for Deel, ref NAJRqF8Wt...\n",
       "99    From Grace Henderson for Deel, ref odjYain0Nn6...\n",
       "Name: description, Length: 100, dtype: object"
      ]
     },
     "execution_count": 14,
     "metadata": {},
     "output_type": "execute_result"
    }
   ],
   "source": [
    "df_transactions['description']"
   ]
  },
  {
   "cell_type": "code",
   "execution_count": 15,
   "metadata": {},
   "outputs": [],
   "source": [
    "def clean_fields(s):\n",
    "    s = unidecode(s).casefold()\n",
    "    s = s.translate(s.maketrans({k: ' ' for k in '!\"#$%&\\'()*+,-.:;<=>?@[]^_`{|}~'}))\n",
    "    return re.sub('\\s\\s+', ' ', s)"
   ]
  },
  {
   "cell_type": "code",
   "execution_count": 16,
   "metadata": {},
   "outputs": [],
   "source": [
    "# We can't remove all punctuation because of the reference codes.\n",
    "df_transactions['description'] = df_transactions['description'].apply(clean_fields)"
   ]
  },
  {
   "cell_type": "code",
   "execution_count": 17,
   "metadata": {},
   "outputs": [],
   "source": [
    "# Transforming IDs and descriptions into list so we can build a dataframe with the embeddings\n",
    "id_list = df_transactions['id'].to_list()\n",
    "descriptions = df_transactions['description'].to_list()"
   ]
  },
  {
   "cell_type": "code",
   "execution_count": 18,
   "metadata": {},
   "outputs": [
    {
     "data": {
      "text/plain": [
       "384"
      ]
     },
     "execution_count": 18,
     "metadata": {},
     "output_type": "execute_result"
    }
   ],
   "source": [
    "# Transforms the descriptions into embeddings\n",
    "embeddings = model.encode(descriptions)"
   ]
  },
  {
   "cell_type": "code",
   "execution_count": 19,
   "metadata": {},
   "outputs": [],
   "source": [
    "# Creating the new dataframe with the embeddings\n",
    "df_transactions = pd.DataFrame(columns = ['id', 'embeddings'], data = zip(id_list, embeddings))"
   ]
  },
  {
   "cell_type": "code",
   "execution_count": 38,
   "metadata": {},
   "outputs": [],
   "source": [
    "# Function to calculate the cosine similarity between two given sentences (one should be the user input, the other one should be the precomputed\n",
    "# embeddings of the descriptions)\n",
    "def calculate_similarity(row_embedding, query_embedding):\n",
    "    return cos_sim(row_embedding, query_embedding).item()"
   ]
  },
  {
   "cell_type": "code",
   "execution_count": 39,
   "metadata": {},
   "outputs": [],
   "source": [
    "# Searches for the closest sentence to the user input in the precomputed embeddings\n",
    "def search_closest_sentence(s, df_transactions):\n",
    "    query_embedding = model.encode(clean_fields(s))\n",
    "    df_transactions['similarity'] = df_transactions['embeddings'].apply(calculate_similarity, query_embedding=query_embedding)\n",
    "    return df_transactions.sort_values(by='similarity', ascending=False, na_position='last')"
   ]
  },
  {
   "cell_type": "code",
   "execution_count": 49,
   "metadata": {},
   "outputs": [],
   "source": [
    "# Example of testing the algorithm\n",
    "results = search_closest_sentence(\"From Mia Lewis\", df_transactions)"
   ]
  },
  {
   "cell_type": "code",
   "execution_count": 50,
   "metadata": {},
   "outputs": [],
   "source": [
    "results_filtered = results[results['similarity'] > 0.51]"
   ]
  },
  {
   "cell_type": "code",
   "execution_count": 51,
   "metadata": {},
   "outputs": [
    {
     "data": {
      "text/html": [
       "<div>\n",
       "<style scoped>\n",
       "    .dataframe tbody tr th:only-of-type {\n",
       "        vertical-align: middle;\n",
       "    }\n",
       "\n",
       "    .dataframe tbody tr th {\n",
       "        vertical-align: top;\n",
       "    }\n",
       "\n",
       "    .dataframe thead th {\n",
       "        text-align: right;\n",
       "    }\n",
       "</style>\n",
       "<table border=\"1\" class=\"dataframe\">\n",
       "  <thead>\n",
       "    <tr style=\"text-align: right;\">\n",
       "      <th></th>\n",
       "      <th>id</th>\n",
       "      <th>embeddings</th>\n",
       "      <th>similarity</th>\n",
       "    </tr>\n",
       "  </thead>\n",
       "  <tbody>\n",
       "    <tr>\n",
       "      <th>11</th>\n",
       "      <td>J7os8g9d</td>\n",
       "      <td>[-0.17402273, 0.058560427, -0.17690979, 0.0154...</td>\n",
       "      <td>0.59568</td>\n",
       "    </tr>\n",
       "  </tbody>\n",
       "</table>\n",
       "</div>"
      ],
      "text/plain": [
       "          id                                         embeddings  similarity\n",
       "11  J7os8g9d  [-0.17402273, 0.058560427, -0.17690979, 0.0154...     0.59568"
      ]
     },
     "execution_count": 51,
     "metadata": {},
     "output_type": "execute_result"
    }
   ],
   "source": [
    "results_filtered.head(10)"
   ]
  },
  {
   "cell_type": "code",
   "execution_count": 56,
   "metadata": {},
   "outputs": [
    {
     "data": {
      "text/plain": [
       "array([-1.74022734e-01,  5.85604273e-02, -1.76909789e-01,  1.54276202e-02,\n",
       "        3.77101153e-02,  7.61425029e-03,  1.23299263e-01,  7.19177052e-02,\n",
       "        6.91393241e-02, -1.67336259e-02,  4.16594557e-02, -3.85585167e-02,\n",
       "        5.52373100e-03, -2.40408797e-02, -1.03121206e-01,  4.77273799e-02,\n",
       "       -8.90637115e-02,  8.93453788e-03, -8.30889419e-02,  2.13276856e-02,\n",
       "       -1.86541639e-02,  5.91308884e-02, -5.72981350e-02,  2.79016001e-03,\n",
       "       -2.57867090e-02, -6.57052994e-02, -4.96601649e-02,  7.36713558e-02,\n",
       "       -1.60218365e-02, -1.17007591e-01,  1.97197683e-02,  5.53456508e-02,\n",
       "        1.13011652e-03,  1.43220779e-02,  8.53173360e-02,  5.39516024e-02,\n",
       "       -3.00220475e-02, -7.46631157e-03, -1.12330113e-02,  2.76866481e-02,\n",
       "        4.70100455e-02, -7.12068602e-02, -7.92683195e-03, -2.72459853e-02,\n",
       "       -3.47832739e-02,  6.15384020e-02, -2.27282438e-02,  2.98125315e-02,\n",
       "        3.54581065e-02,  8.32348503e-03, -8.85481760e-02,  6.84600770e-02,\n",
       "       -2.08087787e-02,  2.68856231e-02,  2.10167896e-02,  6.13943860e-02,\n",
       "        7.38962600e-03,  3.03008333e-02, -6.31262064e-02, -3.52284499e-02,\n",
       "        2.20477879e-02,  1.77338049e-02, -9.84516218e-02,  1.30789857e-02,\n",
       "       -3.84554937e-02, -9.73594785e-02, -3.91881689e-02, -9.72600803e-02,\n",
       "       -1.23308161e-02, -8.99148732e-02, -3.08079068e-02, -3.25046405e-02,\n",
       "       -7.74040306e-03, -4.80846968e-03,  9.91001874e-02,  2.98581403e-02,\n",
       "        4.26195115e-02,  8.19543842e-03,  1.10956401e-01, -9.25885439e-02,\n",
       "       -3.23773059e-03, -5.79906022e-03,  8.45010951e-03,  3.42464931e-02,\n",
       "        9.66009870e-03,  4.22378816e-02, -1.50288213e-02, -3.13759074e-02,\n",
       "        5.99979870e-02,  1.06528737e-02,  5.47614284e-02, -8.40037689e-03,\n",
       "        2.92004814e-04,  2.05047149e-02, -8.92366096e-02,  5.27887009e-02,\n",
       "        3.84841859e-02,  4.48555499e-02,  3.47318985e-02,  1.34939000e-01,\n",
       "        4.83907871e-02,  5.84330335e-02, -1.18666917e-01,  2.80830152e-02,\n",
       "       -9.38670784e-02, -7.47835711e-02,  9.30716842e-02,  6.01586439e-02,\n",
       "       -3.35650779e-02, -2.95657734e-03, -2.12923381e-02,  8.13702494e-02,\n",
       "        4.49520350e-03, -1.08677680e-02, -1.17585575e-03,  2.97027659e-02,\n",
       "       -5.95188588e-02, -5.98478178e-03,  1.02049030e-01, -1.57130316e-01,\n",
       "       -3.48409005e-02, -4.00588550e-02, -6.58027828e-02,  2.86664851e-02,\n",
       "       -8.56048688e-02, -3.05489432e-02,  3.49830091e-02,  6.43146167e-33,\n",
       "        5.95675968e-02,  7.24063218e-02,  6.56872988e-02,  2.47181505e-02,\n",
       "       -5.60247563e-02, -3.53007540e-02,  3.35503882e-03, -2.95683891e-02,\n",
       "        5.28557450e-02, -6.52520880e-02, -7.47305751e-02, -6.10073879e-02,\n",
       "       -1.15554621e-02, -1.21673018e-01, -3.28878760e-02,  5.41690886e-02,\n",
       "       -5.72032146e-02, -1.52172416e-03, -1.31490529e-01,  4.50472869e-02,\n",
       "        7.78366849e-02,  3.08799054e-02, -4.28873412e-02,  3.49395983e-02,\n",
       "       -3.53597221e-03,  7.44071826e-02, -2.62501221e-02, -3.20371357e-03,\n",
       "        3.31373960e-02,  8.14720020e-02, -3.40736168e-03, -4.54122387e-02,\n",
       "        3.14351893e-03,  3.44169661e-02,  4.38094772e-02,  5.52637912e-02,\n",
       "       -8.88989344e-02, -3.33884694e-02,  7.20635243e-03, -7.16561312e-03,\n",
       "        5.00905737e-02,  3.14732641e-02, -4.55452973e-04, -7.96726644e-02,\n",
       "       -8.00389200e-02,  2.83443090e-03,  5.20592853e-02,  4.04854193e-02,\n",
       "        2.56545488e-02,  2.35822555e-02,  8.43855611e-04, -2.96229944e-02,\n",
       "       -3.77272666e-02, -1.03158858e-02, -1.04592938e-03, -3.13290991e-02,\n",
       "       -9.50178597e-03,  1.85979027e-02,  7.74194812e-03,  1.63002890e-02,\n",
       "        1.42132491e-02,  3.47352065e-02, -2.04063524e-02,  3.30277570e-02,\n",
       "       -2.06293091e-02, -4.42966409e-02, -2.34541371e-02,  1.17093176e-02,\n",
       "        4.96460907e-02, -7.42798224e-02,  1.77012254e-02,  4.27930318e-02,\n",
       "        3.00540328e-02, -1.43537400e-02, -4.36182022e-02, -1.59897245e-02,\n",
       "        2.43778992e-02,  1.67676844e-02,  7.81495497e-02, -1.24283042e-02,\n",
       "       -4.99408282e-02,  2.85324939e-02, -9.42428857e-02,  1.57975443e-02,\n",
       "        6.56027021e-03, -3.55399437e-02,  1.51713155e-02, -3.17810029e-02,\n",
       "       -3.47523205e-02,  4.26322520e-02, -4.79479767e-02,  1.17308111e-03,\n",
       "        2.94111967e-02, -8.60226080e-02, -6.62846165e-03, -7.85834284e-33,\n",
       "        5.53024048e-03, -3.91745474e-03, -1.01704709e-02, -2.69081797e-02,\n",
       "        2.98145190e-02, -1.31974928e-02, -1.25044743e-02,  4.28912193e-02,\n",
       "        9.16406661e-02,  3.07966750e-02,  3.57558131e-02, -4.59504612e-02,\n",
       "        5.75611442e-02,  3.75174149e-03, -2.56669167e-02, -5.23809828e-02,\n",
       "       -5.33055607e-03, -1.43820522e-02, -2.52119526e-02,  3.35436016e-02,\n",
       "        7.61267841e-02,  9.97773856e-02, -2.96747312e-02, -2.00433284e-02,\n",
       "       -1.82575861e-03, -9.47447866e-03,  5.66877052e-02,  2.11473349e-02,\n",
       "       -4.05458249e-02,  2.48336811e-02, -2.84813764e-03, -3.76373269e-02,\n",
       "       -8.72773603e-02,  7.66795501e-02, -3.61918211e-02, -7.73879886e-02,\n",
       "        5.95281795e-02,  7.35813156e-02, -2.94138081e-02,  2.38547344e-02,\n",
       "        5.28223161e-03,  1.55789044e-03, -7.42630474e-03,  4.19157445e-02,\n",
       "        1.49553493e-02, -1.47074077e-03,  7.88070355e-03, -2.67733671e-02,\n",
       "        8.89655203e-02,  2.85402946e-02,  3.91232930e-02, -3.47041152e-02,\n",
       "        1.56039568e-02,  1.06030852e-01, -1.74569953e-02,  2.03900188e-02,\n",
       "        5.95370084e-02,  1.12456956e-03,  8.42275992e-02, -8.17717612e-02,\n",
       "        5.68393664e-03,  8.32297206e-02, -1.24445468e-01, -1.43379541e-02,\n",
       "        6.41762093e-02,  1.61670372e-02, -6.12826198e-02, -2.52244696e-02,\n",
       "       -5.83344186e-03, -6.12390935e-02, -1.64473075e-02, -9.11943242e-02,\n",
       "       -1.51750483e-02, -1.11333532e-02, -5.61146103e-02, -2.72022001e-02,\n",
       "       -3.89521793e-02,  2.73165982e-02,  3.91281769e-02,  5.42193726e-02,\n",
       "       -5.68846501e-02, -8.19940418e-02,  2.24306062e-03,  4.76966724e-02,\n",
       "       -4.56120615e-04, -3.15943807e-02,  2.71891281e-02, -2.57083829e-02,\n",
       "        1.72303189e-02, -6.70121983e-03, -6.16440438e-02, -2.12364178e-02,\n",
       "        6.44957125e-02, -2.10896600e-02, -7.62273371e-02, -4.05816749e-08,\n",
       "        3.47649232e-02,  5.99147677e-02, -3.45875649e-03,  8.90593007e-02,\n",
       "        3.01012993e-02,  3.18254605e-02,  9.54403076e-03, -2.84130629e-02,\n",
       "        3.71810645e-02,  5.33000454e-02,  3.81507277e-02,  7.16576278e-02,\n",
       "        2.25765053e-02, -9.40694809e-02,  5.56625836e-02,  3.09957881e-02,\n",
       "       -7.02650696e-02, -4.31931076e-05, -2.51521915e-02, -8.05303305e-02,\n",
       "        5.87242609e-03, -6.48593381e-02,  3.63968946e-02,  1.55391060e-02,\n",
       "       -2.54840683e-02, -8.48424900e-03,  6.13318058e-03,  2.83877142e-02,\n",
       "       -2.32907441e-02, -1.10737436e-01, -2.98821907e-02,  1.12040445e-01,\n",
       "        7.20376447e-02, -7.18262270e-02,  1.06086198e-03,  1.18047763e-02,\n",
       "       -1.81689635e-02, -2.90105660e-02, -4.07413021e-03, -1.23845339e-02,\n",
       "        4.57002074e-02,  2.65570637e-02,  4.74006543e-03,  1.89802330e-02,\n",
       "        1.96167398e-02, -5.99921234e-02, -7.09595811e-03, -6.16557971e-02,\n",
       "       -1.74616780e-02, -1.32660558e-02, -8.86299312e-02, -8.36815163e-02,\n",
       "        6.97985142e-02,  1.87568534e-02, -1.86426993e-02,  7.06251152e-03,\n",
       "        1.16941808e-02, -1.70799587e-02,  2.00149901e-02,  4.39344905e-02,\n",
       "        1.30990697e-02,  9.24642459e-02,  4.60700430e-02,  1.39395567e-02],\n",
       "      dtype=float32)"
      ]
     },
     "execution_count": 56,
     "metadata": {},
     "output_type": "execute_result"
    }
   ],
   "source": [
    "#Getting similarity for a specific record\n",
    "records = results_filtered.to_records()\n",
    "records[0].embeddings"
   ]
  },
  {
   "cell_type": "code",
   "execution_count": null,
   "metadata": {},
   "outputs": [],
   "source": []
  }
 ],
 "metadata": {
  "kernelspec": {
   "display_name": ".venv",
   "language": "python",
   "name": "python3"
  },
  "language_info": {
   "codemirror_mode": {
    "name": "ipython",
    "version": 3
   },
   "file_extension": ".py",
   "mimetype": "text/x-python",
   "name": "python",
   "nbconvert_exporter": "python",
   "pygments_lexer": "ipython3",
   "version": "3.11.0"
  },
  "orig_nbformat": 4
 },
 "nbformat": 4,
 "nbformat_minor": 2
}
