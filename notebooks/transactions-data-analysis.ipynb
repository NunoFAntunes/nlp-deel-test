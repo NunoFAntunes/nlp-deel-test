{
 "cells": [
  {
   "cell_type": "code",
   "execution_count": 1,
   "metadata": {},
   "outputs": [],
   "source": [
    "import pandas as pd"
   ]
  },
  {
   "cell_type": "code",
   "execution_count": 2,
   "metadata": {},
   "outputs": [],
   "source": [
    "TRANSACTIONS_DATA_PATH = '../data/transactions.csv'"
   ]
  },
  {
   "cell_type": "code",
   "execution_count": null,
   "metadata": {},
   "outputs": [],
   "source": [
    "with open(TRANSACTIONS_DATA_PATH) as f:\n",
    "    print(f)"
   ]
  },
  {
   "cell_type": "code",
   "execution_count": 3,
   "metadata": {},
   "outputs": [],
   "source": [
    "df_transactions = pd.read_csv(TRANSACTIONS_DATA_PATH)"
   ]
  },
  {
   "cell_type": "code",
   "execution_count": 4,
   "metadata": {},
   "outputs": [
    {
     "data": {
      "text/html": [
       "<div>\n",
       "<style scoped>\n",
       "    .dataframe tbody tr th:only-of-type {\n",
       "        vertical-align: middle;\n",
       "    }\n",
       "\n",
       "    .dataframe tbody tr th {\n",
       "        vertical-align: top;\n",
       "    }\n",
       "\n",
       "    .dataframe thead th {\n",
       "        text-align: right;\n",
       "    }\n",
       "</style>\n",
       "<table border=\"1\" class=\"dataframe\">\n",
       "  <thead>\n",
       "    <tr style=\"text-align: right;\">\n",
       "      <th></th>\n",
       "      <th>id</th>\n",
       "      <th>amount ($)</th>\n",
       "      <th>description</th>\n",
       "    </tr>\n",
       "  </thead>\n",
       "  <tbody>\n",
       "    <tr>\n",
       "      <th>0</th>\n",
       "      <td>caqjJtrI</td>\n",
       "      <td>88549</td>\n",
       "      <td>From Liam J. Johnson for Deel, ref 4oJnVOMRLZf...</td>\n",
       "    </tr>\n",
       "    <tr>\n",
       "      <th>1</th>\n",
       "      <td>AcwQVVtq</td>\n",
       "      <td>95880</td>\n",
       "      <td>From Olivia Roland Smith for Deel, ref mhH2aFL...</td>\n",
       "    </tr>\n",
       "    <tr>\n",
       "      <th>2</th>\n",
       "      <td>N0wJk7Kp</td>\n",
       "      <td>56834</td>\n",
       "      <td>From 杨陈 for Deel, ref 0Ckil9BX0zXMACC//1474884...</td>\n",
       "    </tr>\n",
       "    <tr>\n",
       "      <th>3</th>\n",
       "      <td>RAZbbmLX</td>\n",
       "      <td>98237</td>\n",
       "      <td>Transfer from Emma Brown for Deel, ref kKx5IWy...</td>\n",
       "    </tr>\n",
       "    <tr>\n",
       "      <th>4</th>\n",
       "      <td>bIzmL3pD</td>\n",
       "      <td>82977</td>\n",
       "      <td>From Oliver Talor for Deel, ref zMpiWFssuC1sAC...</td>\n",
       "    </tr>\n",
       "  </tbody>\n",
       "</table>\n",
       "</div>"
      ],
      "text/plain": [
       "         id  amount ($)                                        description\n",
       "0  caqjJtrI       88549  From Liam J. Johnson for Deel, ref 4oJnVOMRLZf...\n",
       "1  AcwQVVtq       95880  From Olivia Roland Smith for Deel, ref mhH2aFL...\n",
       "2  N0wJk7Kp       56834  From 杨陈 for Deel, ref 0Ckil9BX0zXMACC//1474884...\n",
       "3  RAZbbmLX       98237  Transfer from Emma Brown for Deel, ref kKx5IWy...\n",
       "4  bIzmL3pD       82977  From Oliver Talor for Deel, ref zMpiWFssuC1sAC..."
      ]
     },
     "execution_count": 4,
     "metadata": {},
     "output_type": "execute_result"
    }
   ],
   "source": [
    "df_transactions.head()"
   ]
  },
  {
   "attachments": {},
   "cell_type": "markdown",
   "metadata": {},
   "source": [
    "Trying to identify common ways where names are spelled different from what is shown in the users data file, I observed the following cases:\n",
    "\n",
    "- Names are written in different cases (upper, lower, mixed)\n",
    "- Middle name is included in the name in some cases (sometimes in users files, other times in transactions files), and these possibly represent the same person\n",
    "- Middle name is different in users file and transactions file. For example: Olivia Roland Smith (transactions) and Olivia North Smith (users). Are these the same person?\n",
    "- Names in different charsets. \n",
    "    - Chinese: \n",
    "        - The name 杨陈 (transactions) and Yang Chen (users). \n",
    "    - Greek: \n",
    "        - The name Αλέξανδρος Μπέικερ (transactions) and Alexander Baker (users) may be the same person.\n",
    "        - The person Ἄλεξις Ava Anderson (transactions) and Alexis Anderson (users) may be the same person.\n",
    "    - Hebrew:\n",
    "        - אֲבִיגַיִל גרין (transactions) and Abigail Green (users) may be the same person.\n",
    "- Random punctuation marks in names. For example !Isabel Wilson (transactions) and Isabel Wilson (users). \n",
    "- Random Spaces in names. From Elijah    Thomas for Deel, Hen ry Hill for Deel\n",
    "- Random numbers in names. Harper580Adams, Michael 60413 Moore\n",
    "- Names in leet writing (Ellie L0NG)\n",
    "- Random diacritics in names (Évèlyn Allèn Jr.)\n",
    "- Random special characters in names (Matthe';w Ki|ng)\n",
    "- Misspelled names  Davd # Carter\n",
    "- Broken up names Andrew Richar dson\n",
    "- Text with no name in transactions\n"
   ]
  },
  {
   "attachments": {},
   "cell_type": "markdown",
   "metadata": {},
   "source": [
    "All IDs, descriptions and values are Unique"
   ]
  },
  {
   "cell_type": "code",
   "execution_count": 20,
   "metadata": {},
   "outputs": [
    {
     "data": {
      "text/plain": [
       "True"
      ]
     },
     "execution_count": 20,
     "metadata": {},
     "output_type": "execute_result"
    }
   ],
   "source": [
    "df_transactions.id.dropna().is_unique"
   ]
  },
  {
   "cell_type": "code",
   "execution_count": 21,
   "metadata": {},
   "outputs": [
    {
     "data": {
      "text/plain": [
       "True"
      ]
     },
     "execution_count": 21,
     "metadata": {},
     "output_type": "execute_result"
    }
   ],
   "source": [
    "df_transactions.description.dropna().is_unique"
   ]
  },
  {
   "cell_type": "code",
   "execution_count": 22,
   "metadata": {},
   "outputs": [
    {
     "data": {
      "text/html": [
       "<div>\n",
       "<style scoped>\n",
       "    .dataframe tbody tr th:only-of-type {\n",
       "        vertical-align: middle;\n",
       "    }\n",
       "\n",
       "    .dataframe tbody tr th {\n",
       "        vertical-align: top;\n",
       "    }\n",
       "\n",
       "    .dataframe thead th {\n",
       "        text-align: right;\n",
       "    }\n",
       "</style>\n",
       "<table border=\"1\" class=\"dataframe\">\n",
       "  <thead>\n",
       "    <tr style=\"text-align: right;\">\n",
       "      <th></th>\n",
       "      <th>id</th>\n",
       "      <th>amount ($)</th>\n",
       "      <th>description</th>\n",
       "    </tr>\n",
       "  </thead>\n",
       "  <tbody>\n",
       "  </tbody>\n",
       "</table>\n",
       "</div>"
      ],
      "text/plain": [
       "Empty DataFrame\n",
       "Columns: [id, amount ($), description]\n",
       "Index: []"
      ]
     },
     "execution_count": 22,
     "metadata": {},
     "output_type": "execute_result"
    }
   ],
   "source": [
    "# No transactions have the exact same value, which almost certainly indicates there are no duplicate transactions.\n",
    "df_transactions[df_transactions['amount ($)'].duplicated(keep=False)] "
   ]
  },
  {
   "cell_type": "code",
   "execution_count": null,
   "metadata": {},
   "outputs": [],
   "source": []
  }
 ],
 "metadata": {
  "kernelspec": {
   "display_name": ".venv",
   "language": "python",
   "name": "python3"
  },
  "language_info": {
   "codemirror_mode": {
    "name": "ipython",
    "version": 3
   },
   "file_extension": ".py",
   "mimetype": "text/x-python",
   "name": "python",
   "nbconvert_exporter": "python",
   "pygments_lexer": "ipython3",
   "version": "3.11.0"
  },
  "orig_nbformat": 4
 },
 "nbformat": 4,
 "nbformat_minor": 2
}
