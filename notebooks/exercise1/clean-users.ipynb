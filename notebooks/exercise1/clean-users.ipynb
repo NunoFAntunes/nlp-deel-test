{
 "cells": [
  {
   "cell_type": "code",
   "execution_count": 29,
   "metadata": {},
   "outputs": [],
   "source": [
    "import pandas as pd\n",
    "import string\n",
    "from unidecode import unidecode"
   ]
  },
  {
   "cell_type": "code",
   "execution_count": 30,
   "metadata": {},
   "outputs": [],
   "source": [
    "USERS_DATA_PATH = '../../data/users.csv'\n",
    "df_users = pd.read_csv(USERS_DATA_PATH)\n",
    "#df_users= df_users.astype({'name':'string'}, errors='raise')\n",
    "df_users = df_users.dropna(axis=0, subset=['name']) #Deletes user that has no name"
   ]
  },
  {
   "cell_type": "code",
   "execution_count": 31,
   "metadata": {},
   "outputs": [
    {
     "name": "stdout",
     "output_type": "stream",
     "text": [
      "<class 'pandas.core.frame.DataFrame'>\n",
      "Index: 100 entries, 0 to 100\n",
      "Data columns (total 2 columns):\n",
      " #   Column  Non-Null Count  Dtype \n",
      "---  ------  --------------  ----- \n",
      " 0   id      100 non-null    object\n",
      " 1   name    100 non-null    object\n",
      "dtypes: object(2)\n",
      "memory usage: 2.3+ KB\n"
     ]
    }
   ],
   "source": [
    "df_users.info()"
   ]
  },
  {
   "cell_type": "code",
   "execution_count": null,
   "metadata": {},
   "outputs": [],
   "source": []
  },
  {
   "cell_type": "code",
   "execution_count": 32,
   "metadata": {},
   "outputs": [],
   "source": [
    "# It deals with accents and names in different writing systems\n",
    "def translate_unicode_into_ascii(s):\n",
    "    return unidecode(s)"
   ]
  },
  {
   "cell_type": "code",
   "execution_count": 38,
   "metadata": {},
   "outputs": [],
   "source": [
    "df_users['name'] = df_users['name'].apply(translate_unicode_into_ascii)\n",
    "df_users['name'] = df_users['name'].apply(lambda x:x.casefold())\n"
   ]
  },
  {
   "cell_type": "code",
   "execution_count": 39,
   "metadata": {},
   "outputs": [
    {
     "name": "stdout",
     "output_type": "stream",
     "text": [
      "             david wood\n",
      "            sophia cork\n",
      "         chris gonzalez\n",
      "           evelyn allen\n",
      "        alexis anderson\n",
      "         benjamin leeds\n",
      "         stella sanders\n",
      "        isaac bell deel\n",
      " sophia elizabeth clark\n",
      "         john ryan diaz\n",
      "              jian chen\n",
      "             sam cooper\n",
      "       penelop campbell\n",
      "               liu wang\n",
      "            jack cooper\n",
      "                  elena\n",
      "audrey eleanor peterson\n",
      "           savannah cox\n",
      "             aria j cox\n",
      "            sam edwards\n",
      "     elizabeth mitchell\n",
      "             emma brown\n",
      "          oliver taylor\n",
      "               audrey  \n",
      "         jackson nelson\n",
      "        sophia campbell\n",
      "            lily foster\n",
      "           benjamin lee\n",
      "            daniel deel\n",
      "          daniel wright\n",
      "              mila ward\n",
      "         gabriel cooper\n",
      "           nora roberts\n",
      "          andrew rodeel\n",
      "           harper adams\n",
      "          john mitchell\n",
      "           aurorapowell\n",
      "   nathalie claire reed\n",
      "           matthew king\n",
      "       matthew brookers\n",
      "       william phillips\n",
      "          andrew barnes\n",
      "             henry hill\n",
      "           ellie colman\n",
      "           david carter\n",
      " christian ridley scott\n",
      " william james martinez\n",
      "           hazel foster\n",
      "                 yichen\n",
      "                li zhou\n",
      "        james l coleman\n",
      "          grace collins\n",
      "                grace h\n",
      "           rick coleman\n",
      "          layla simmons\n",
      "          avigail green\n",
      "      skylar richardson\n",
      "              yang chen\n",
      "      samuel washington\n",
      "          amelia turner\n",
      "             henry gray\n",
      "         paisley taylor\n",
      "           joseph evans\n",
      "             eli morris\n",
      "              luna reed\n",
      "       andrw richardson\n",
      "           matthew west\n",
      "          scarlett ross\n",
      "           refley hayes\n",
      "           lea phillips\n",
      "     olivia north smith\n",
      "        isabella wilson\n",
      "christopher ward morgan\n",
      "           liam johnson\n",
      "   addison james hughes\n",
      "          joseph foster\n",
      "          daniel torres\n",
      "            zoey howard\n",
      "           hannah woods\n",
      "         jonathan perry\n",
      "        isabella wilson\n",
      "       charlotte walker\n",
      "           david hughes\n",
      "        fisher victoria\n",
      "          michael moore\n",
      "         claire simmons\n",
      "        benjamin rivera\n",
      "             lucas hall\n",
      "          james bennett\n",
      "        alexander baker\n",
      "        james rodriguez\n",
      "             ellie long\n",
      "               ma lewis\n",
      "          elijah thomas\n",
      "      griffin christian\n",
      "       christopher ward\n",
      "             lily kelly\n",
      "          bella bennett\n",
      "            ross joshua\n",
      "       maria perikleous\n"
     ]
    }
   ],
   "source": [
    "print(df_users['name'].to_string(index=False))"
   ]
  },
  {
   "cell_type": "code",
   "execution_count": 40,
   "metadata": {},
   "outputs": [],
   "source": [
    "df_users.to_csv('../../data/users_clean.csv', index=False)"
   ]
  },
  {
   "cell_type": "code",
   "execution_count": null,
   "metadata": {},
   "outputs": [],
   "source": []
  }
 ],
 "metadata": {
  "kernelspec": {
   "display_name": ".venv",
   "language": "python",
   "name": "python3"
  },
  "language_info": {
   "codemirror_mode": {
    "name": "ipython",
    "version": 3
   },
   "file_extension": ".py",
   "mimetype": "text/x-python",
   "name": "python",
   "nbconvert_exporter": "python",
   "pygments_lexer": "ipython3",
   "version": "3.11.0"
  },
  "orig_nbformat": 4
 },
 "nbformat": 4,
 "nbformat_minor": 2
}
